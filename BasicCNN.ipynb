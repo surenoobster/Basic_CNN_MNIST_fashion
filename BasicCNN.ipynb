{
  "nbformat": 4,
  "nbformat_minor": 0,
  "metadata": {
    "colab": {
      "provenance": []
    },
    "kernelspec": {
      "name": "python3",
      "display_name": "Python 3"
    },
    "language_info": {
      "name": "python"
    }
  },
  "cells": [
    {
      "cell_type": "code",
      "execution_count": 25,
      "metadata": {
        "id": "nPuD5dN6zmjK"
      },
      "outputs": [],
      "source": [
        "import os\n",
        "import numpy as np\n",
        "import matplotlib.pyplot as plt\n",
        "import seaborn as sns\n",
        "import torch\n",
        "import torch.nn as nn\n",
        "from torch.utils.data import  DataLoader\n",
        "from torchvision import transforms, datasets\n",
        "import torch.nn.functional as F\n",
        "from torch.optim import Adam\n",
        "from tqdm import tqdm\n",
        "from sklearn.metrics import confusion_matrix\n",
        "import pandas as pd"
      ]
    },
    {
      "cell_type": "code",
      "source": [
        "class Config:\n",
        "  def __init__(self):\n",
        "    self.ROOT_DATA_DIR = \"fashionMNSITDir\"\n",
        "    self.epochs = 10\n",
        "    self.batch_size= 32\n",
        "    self.learning_rate = 0.01\n",
        "    self.image_size = (28,28)\n",
        "    self.DEVICE=\"cuda\" if torch.cuda.is_available() else \"cpu\"\n",
        "    print(f\"this notebook is using Device: {self.DEVICE}\")\n",
        "    self.SEED = 2022\n",
        "\n",
        "config = Config()\n",
        "\n",
        ""
      ],
      "metadata": {
        "colab": {
          "base_uri": "https://localhost:8080/"
        },
        "id": "I67UgHDY1eED",
        "outputId": "3eaa621e-6224-46d6-d0c2-d6cde11731ae"
      },
      "execution_count": 4,
      "outputs": [
        {
          "output_type": "stream",
          "name": "stdout",
          "text": [
            "this notebook is using Device: cpu\n"
          ]
        }
      ]
    },
    {
      "cell_type": "code",
      "source": [
        "train_data = datasets.FashionMNIST(\n",
        "    root = config.ROOT_DATA_DIR,\n",
        "    train = True,\n",
        "    download = True,\n",
        "    transform = transforms.ToTensor()\n",
        "\n",
        ")\n",
        "\n",
        "test_data = datasets.FashionMNIST(\n",
        "    root = config.ROOT_DATA_DIR,\n",
        "    train = False,\n",
        "    download = True,\n",
        "    transform = transforms.ToTensor()\n",
        "\n",
        ")"
      ],
      "metadata": {
        "id": "FMiaSbuZ2ajB"
      },
      "execution_count": 9,
      "outputs": []
    },
    {
      "cell_type": "code",
      "source": [
        "from torchvision import transforms, datasets\n",
        "dir(datasets)"
      ],
      "metadata": {
        "colab": {
          "base_uri": "https://localhost:8080/"
        },
        "id": "Sa_HM_2Z3XHg",
        "outputId": "e617e9fc-c43c-4a89-fe8b-d6f6084b46b0"
      },
      "execution_count": 7,
      "outputs": [
        {
          "output_type": "execute_result",
          "data": {
            "text/plain": [
              "['CIFAR10',\n",
              " 'CIFAR100',\n",
              " 'CLEVRClassification',\n",
              " 'CREStereo',\n",
              " 'Caltech101',\n",
              " 'Caltech256',\n",
              " 'CarlaStereo',\n",
              " 'CelebA',\n",
              " 'Cityscapes',\n",
              " 'CocoCaptions',\n",
              " 'CocoDetection',\n",
              " 'Country211',\n",
              " 'DTD',\n",
              " 'DatasetFolder',\n",
              " 'EMNIST',\n",
              " 'ETH3DStereo',\n",
              " 'EuroSAT',\n",
              " 'FER2013',\n",
              " 'FGVCAircraft',\n",
              " 'FakeData',\n",
              " 'FallingThingsStereo',\n",
              " 'FashionMNIST',\n",
              " 'Flickr30k',\n",
              " 'Flickr8k',\n",
              " 'Flowers102',\n",
              " 'FlyingChairs',\n",
              " 'FlyingThings3D',\n",
              " 'Food101',\n",
              " 'GTSRB',\n",
              " 'HD1K',\n",
              " 'HMDB51',\n",
              " 'INaturalist',\n",
              " 'ImageFolder',\n",
              " 'ImageNet',\n",
              " 'Imagenette',\n",
              " 'InStereo2k',\n",
              " 'KMNIST',\n",
              " 'Kinetics',\n",
              " 'Kitti',\n",
              " 'Kitti2012Stereo',\n",
              " 'Kitti2015Stereo',\n",
              " 'KittiFlow',\n",
              " 'LFWPairs',\n",
              " 'LFWPeople',\n",
              " 'LSUN',\n",
              " 'LSUNClass',\n",
              " 'MNIST',\n",
              " 'Middlebury2014Stereo',\n",
              " 'MovingMNIST',\n",
              " 'Omniglot',\n",
              " 'OxfordIIITPet',\n",
              " 'PCAM',\n",
              " 'PhotoTour',\n",
              " 'Places365',\n",
              " 'QMNIST',\n",
              " 'RenderedSST2',\n",
              " 'SBDataset',\n",
              " 'SBU',\n",
              " 'SEMEION',\n",
              " 'STL10',\n",
              " 'SUN397',\n",
              " 'SVHN',\n",
              " 'SceneFlowStereo',\n",
              " 'Sintel',\n",
              " 'SintelStereo',\n",
              " 'StanfordCars',\n",
              " 'UCF101',\n",
              " 'USPS',\n",
              " 'VOCDetection',\n",
              " 'VOCSegmentation',\n",
              " 'VisionDataset',\n",
              " 'WIDERFace',\n",
              " '__all__',\n",
              " '__builtins__',\n",
              " '__cached__',\n",
              " '__doc__',\n",
              " '__file__',\n",
              " '__getattr__',\n",
              " '__loader__',\n",
              " '__name__',\n",
              " '__package__',\n",
              " '__path__',\n",
              " '__spec__',\n",
              " '_optical_flow',\n",
              " '_stereo_matching',\n",
              " 'caltech',\n",
              " 'celeba',\n",
              " 'cifar',\n",
              " 'cityscapes',\n",
              " 'clevr',\n",
              " 'coco',\n",
              " 'country211',\n",
              " 'dtd',\n",
              " 'eurosat',\n",
              " 'fakedata',\n",
              " 'fer2013',\n",
              " 'fgvc_aircraft',\n",
              " 'flickr',\n",
              " 'flowers102',\n",
              " 'folder',\n",
              " 'food101',\n",
              " 'gtsrb',\n",
              " 'hmdb51',\n",
              " 'imagenet',\n",
              " 'imagenette',\n",
              " 'inaturalist',\n",
              " 'kinetics',\n",
              " 'kitti',\n",
              " 'lfw',\n",
              " 'lsun',\n",
              " 'mnist',\n",
              " 'moving_mnist',\n",
              " 'omniglot',\n",
              " 'oxford_iiit_pet',\n",
              " 'pcam',\n",
              " 'phototour',\n",
              " 'places365',\n",
              " 'rendered_sst2',\n",
              " 'sbd',\n",
              " 'sbu',\n",
              " 'semeion',\n",
              " 'stanford_cars',\n",
              " 'stl10',\n",
              " 'sun397',\n",
              " 'svhn',\n",
              " 'ucf101',\n",
              " 'usps',\n",
              " 'utils',\n",
              " 'video_utils',\n",
              " 'vision',\n",
              " 'voc',\n",
              " 'widerface']"
            ]
          },
          "metadata": {},
          "execution_count": 7
        }
      ]
    },
    {
      "cell_type": "code",
      "source": [
        "given_label_map = train_data.class_to_idx\n",
        "given_label_map"
      ],
      "metadata": {
        "colab": {
          "base_uri": "https://localhost:8080/"
        },
        "id": "AT4iMsG85ZKy",
        "outputId": "781b5fd9-14e5-48d6-ed5d-05f5a752e99d"
      },
      "execution_count": 56,
      "outputs": [
        {
          "output_type": "execute_result",
          "data": {
            "text/plain": [
              "{'T-shirt/top': 0,\n",
              " 'Trouser': 1,\n",
              " 'Pullover': 2,\n",
              " 'Dress': 3,\n",
              " 'Coat': 4,\n",
              " 'Sandal': 5,\n",
              " 'Shirt': 6,\n",
              " 'Sneaker': 7,\n",
              " 'Bag': 8,\n",
              " 'Ankle boot': 9}"
            ]
          },
          "metadata": {},
          "execution_count": 56
        }
      ]
    },
    {
      "cell_type": "code",
      "source": [
        "label_map = {v:k for k,v in given_label_map.items()}\n",
        "label_map\n"
      ],
      "metadata": {
        "colab": {
          "base_uri": "https://localhost:8080/"
        },
        "id": "ksdl8NvR6_Lk",
        "outputId": "ac421e6e-6981-4c0a-b50a-83ef144d8086"
      },
      "execution_count": 57,
      "outputs": [
        {
          "output_type": "execute_result",
          "data": {
            "text/plain": [
              "{0: 'T-shirt/top',\n",
              " 1: 'Trouser',\n",
              " 2: 'Pullover',\n",
              " 3: 'Dress',\n",
              " 4: 'Coat',\n",
              " 5: 'Sandal',\n",
              " 6: 'Shirt',\n",
              " 7: 'Sneaker',\n",
              " 8: 'Bag',\n",
              " 9: 'Ankle boot'}"
            ]
          },
          "metadata": {},
          "execution_count": 57
        }
      ]
    },
    {
      "cell_type": "code",
      "source": [
        "def view_sample_img(data,index,label_map):\n",
        "  plt.imshow(data.data[index] , cmap =\"gray\")\n",
        "  plt.title(f\"{label_map[data.targets[index].item()]}\")\n",
        ""
      ],
      "metadata": {
        "id": "nc9Nz8uq7UC5"
      },
      "execution_count": 15,
      "outputs": []
    },
    {
      "cell_type": "code",
      "source": [
        "view_sample_img(train_data,1,label_map)"
      ],
      "metadata": {
        "colab": {
          "base_uri": "https://localhost:8080/",
          "height": 452
        },
        "id": "eItn69988Q8O",
        "outputId": "d3c41978-d8ca-4d59-f2f9-188e85757b6f"
      },
      "execution_count": 16,
      "outputs": [
        {
          "output_type": "display_data",
          "data": {
            "text/plain": [
              "<Figure size 640x480 with 1 Axes>"
            ],
            "image/png": "[encoded data removed]"
          },
          "metadata": {}
        }
      ]
    },
    {
      "cell_type": "code",
      "source": [
        "train_data_loader = DataLoader(train_data,batch_size=config.batch_size,shuffle=True)\n",
        "test_data_loader = DataLoader(test_data,batch_size=config.batch_size,shuffle=True)"
      ],
      "metadata": {
        "id": "guqqW9yB8VLc"
      },
      "execution_count": 17,
      "outputs": []
    },
    {
      "cell_type": "code",
      "source": [
        "for images,labels in train_data_loader:\n",
        "  print(images.shape)\n",
        "  print(labels.shape)\n",
        "  break"
      ],
      "metadata": {
        "colab": {
          "base_uri": "https://localhost:8080/"
        },
        "id": "WkCJCGzC8g_k",
        "outputId": "ca642d86-2573-4ebc-a3b0-264edd782d1c"
      },
      "execution_count": 18,
      "outputs": [
        {
          "output_type": "stream",
          "name": "stdout",
          "text": [
            "torch.Size([32, 1, 28, 28])\n",
            "torch.Size([32])\n"
          ]
        }
      ]
    },
    {
      "cell_type": "code",
      "source": [
        "images[0].shape"
      ],
      "metadata": {
        "colab": {
          "base_uri": "https://localhost:8080/"
        },
        "id": "5lowDxg4Id1b",
        "outputId": "4c4a7978-f435-42b5-b140-3eab80674686"
      },
      "execution_count": 20,
      "outputs": [
        {
          "output_type": "execute_result",
          "data": {
            "text/plain": [
              "torch.Size([1, 28, 28])"
            ]
          },
          "metadata": {},
          "execution_count": 20
        }
      ]
    },
    {
      "cell_type": "code",
      "source": [
        "# Define CNN architecture\n",
        "class CNN(nn.Module):\n",
        "    def __init__(self, in_, out_):\n",
        "        super(CNN, self).__init__()\n",
        "\n",
        "        self.conv_pool_01 = nn.Sequential(\n",
        "            nn.Conv2d(in_channels=in_, out_channels=8, kernel_size=5, stride=1, padding=0),\n",
        "            nn.ReLU(),\n",
        "            nn.MaxPool2d(kernel_size=2, stride=2)\n",
        "        )\n",
        "\n",
        "        self.conv_pool_02 = nn.Sequential(\n",
        "            nn.Conv2d(in_channels=8, out_channels=16, kernel_size=5, stride=1, padding=0),\n",
        "            nn.ReLU(),\n",
        "            nn.MaxPool2d(kernel_size=2, stride=2)\n",
        "        )\n",
        "\n",
        "        self.Flatten = nn.Flatten()\n",
        "        self.FC_01 = nn.Linear(in_features=16*4*4, out_features=128)\n",
        "        self.FC_02 = nn.Linear(in_features=128, out_features=64)\n",
        "        self.FC_03 = nn.Linear(in_features=64, out_features=out_)\n",
        "\n",
        "    def forward(self, x):\n",
        "        x = self.conv_pool_01(x)\n",
        "        x = self.conv_pool_02(x)\n",
        "        x = self.Flatten(x)\n",
        "        x = self.FC_01(x)\n",
        "        x = F.relu(x)\n",
        "        x = self.FC_02(x)\n",
        "        x = F.relu(x)\n",
        "        x = self.FC_03(x)\n",
        "        x = F.log_softmax(x, dim=1)  # Apply softmax to the final layer output\n",
        "        return x\n"
      ],
      "metadata": {
        "id": "pZns3FDBIkze"
      },
      "execution_count": 41,
      "outputs": []
    },
    {
      "cell_type": "code",
      "source": [],
      "metadata": {
        "id": "Hqre3032PZcE"
      },
      "execution_count": 31,
      "outputs": []
    },
    {
      "cell_type": "code",
      "source": [
        "\n",
        "model=CNN(1,10)\n",
        "\n",
        "print(model)\n",
        ""
      ],
      "metadata": {
        "colab": {
          "base_uri": "https://localhost:8080/"
        },
        "id": "2jOijwdJSgiE",
        "outputId": "c6715793-abe1-4fd9-afa2-bcb458e9cbb3"
      },
      "execution_count": 42,
      "outputs": [
        {
          "output_type": "stream",
          "name": "stdout",
          "text": [
            "CNN(\n",
            "  (conv_pool_01): Sequential(\n",
            "    (0): Conv2d(1, 8, kernel_size=(5, 5), stride=(1, 1))\n",
            "    (1): ReLU()\n",
            "    (2): MaxPool2d(kernel_size=2, stride=2, padding=0, dilation=1, ceil_mode=False)\n",
            "  )\n",
            "  (conv_pool_02): Sequential(\n",
            "    (0): Conv2d(8, 16, kernel_size=(5, 5), stride=(1, 1))\n",
            "    (1): ReLU()\n",
            "    (2): MaxPool2d(kernel_size=2, stride=2, padding=0, dilation=1, ceil_mode=False)\n",
            "  )\n",
            "  (Flatten): Flatten(start_dim=1, end_dim=-1)\n",
            "  (FC_01): Linear(in_features=256, out_features=128, bias=True)\n",
            "  (FC_02): Linear(in_features=128, out_features=64, bias=True)\n",
            "  (FC_03): Linear(in_features=64, out_features=10, bias=True)\n",
            ")\n"
          ]
        }
      ]
    },
    {
      "cell_type": "code",
      "source": [
        "\n",
        "def count_params(model):\n",
        "  model_params = {\"Modules\": list(), \"Parameters\": list()}\n",
        "  total = {\"trainable\": 0, \"non_trainable\": 0}\n",
        "  for name, parameters in model.named_parameters():\n",
        "    param = parameters.numel()\n",
        "    if not parameters.requires_grad:\n",
        "      total[\"non_trainable\"] += param\n",
        "      continue\n",
        "    model_params[\"Modules\"].append(name)\n",
        "    model_params[\"Parameters\"].append(param)\n",
        "    total[\"trainable\"] += param\n",
        "  df = pd.DataFrame(model_params)\n",
        "  df = df.style.set_caption(f\"Total parameters: {total}\")\n",
        "  return df\n",
        "\n",
        "count_params(model)\n",
        ""
      ],
      "metadata": {
        "colab": {
          "base_uri": "https://localhost:8080/",
          "height": 398
        },
        "id": "T1v1oppMSiDz",
        "outputId": "4a5ef642-67a3-4499-97d4-70430280f596"
      },
      "execution_count": 43,
      "outputs": [
        {
          "output_type": "execute_result",
          "data": {
            "text/plain": [
              "<pandas.io.formats.style.Styler at 0x789f30c6a0e0>"
            ],
            "text/html": [
              "<style type=\"text/css\">\n",
              "</style>\n",
              "<table id=\"T_0d151\" class=\"dataframe\">\n",
              "  <caption>Total parameters: {'trainable': 45226, 'non_trainable': 0}</caption>\n",
              "  <thead>\n",
              "    <tr>\n",
              "      <th class=\"blank level0\" >&nbsp;</th>\n",
              "      <th id=\"T_0d151_level0_col0\" class=\"col_heading level0 col0\" >Modules</th>\n",
              "      <th id=\"T_0d151_level0_col1\" class=\"col_heading level0 col1\" >Parameters</th>\n",
              "    </tr>\n",
              "  </thead>\n",
              "  <tbody>\n",
              "    <tr>\n",
              "      <th id=\"T_0d151_level0_row0\" class=\"row_heading level0 row0\" >0</th>\n",
              "      <td id=\"T_0d151_row0_col0\" class=\"data row0 col0\" >conv_pool_01.0.weight</td>\n",
              "      <td id=\"T_0d151_row0_col1\" class=\"data row0 col1\" >200</td>\n",
              "    </tr>\n",
              "    <tr>\n",
              "      <th id=\"T_0d151_level0_row1\" class=\"row_heading level0 row1\" >1</th>\n",
              "      <td id=\"T_0d151_row1_col0\" class=\"data row1 col0\" >conv_pool_01.0.bias</td>\n",
              "      <td id=\"T_0d151_row1_col1\" class=\"data row1 col1\" >8</td>\n",
              "    </tr>\n",
              "    <tr>\n",
              "      <th id=\"T_0d151_level0_row2\" class=\"row_heading level0 row2\" >2</th>\n",
              "      <td id=\"T_0d151_row2_col0\" class=\"data row2 col0\" >conv_pool_02.0.weight</td>\n",
              "      <td id=\"T_0d151_row2_col1\" class=\"data row2 col1\" >3200</td>\n",
              "    </tr>\n",
              "    <tr>\n",
              "      <th id=\"T_0d151_level0_row3\" class=\"row_heading level0 row3\" >3</th>\n",
              "      <td id=\"T_0d151_row3_col0\" class=\"data row3 col0\" >conv_pool_02.0.bias</td>\n",
              "      <td id=\"T_0d151_row3_col1\" class=\"data row3 col1\" >16</td>\n",
              "    </tr>\n",
              "    <tr>\n",
              "      <th id=\"T_0d151_level0_row4\" class=\"row_heading level0 row4\" >4</th>\n",
              "      <td id=\"T_0d151_row4_col0\" class=\"data row4 col0\" >FC_01.weight</td>\n",
              "      <td id=\"T_0d151_row4_col1\" class=\"data row4 col1\" >32768</td>\n",
              "    </tr>\n",
              "    <tr>\n",
              "      <th id=\"T_0d151_level0_row5\" class=\"row_heading level0 row5\" >5</th>\n",
              "      <td id=\"T_0d151_row5_col0\" class=\"data row5 col0\" >FC_01.bias</td>\n",
              "      <td id=\"T_0d151_row5_col1\" class=\"data row5 col1\" >128</td>\n",
              "    </tr>\n",
              "    <tr>\n",
              "      <th id=\"T_0d151_level0_row6\" class=\"row_heading level0 row6\" >6</th>\n",
              "      <td id=\"T_0d151_row6_col0\" class=\"data row6 col0\" >FC_02.weight</td>\n",
              "      <td id=\"T_0d151_row6_col1\" class=\"data row6 col1\" >8192</td>\n",
              "    </tr>\n",
              "    <tr>\n",
              "      <th id=\"T_0d151_level0_row7\" class=\"row_heading level0 row7\" >7</th>\n",
              "      <td id=\"T_0d151_row7_col0\" class=\"data row7 col0\" >FC_02.bias</td>\n",
              "      <td id=\"T_0d151_row7_col1\" class=\"data row7 col1\" >64</td>\n",
              "    </tr>\n",
              "    <tr>\n",
              "      <th id=\"T_0d151_level0_row8\" class=\"row_heading level0 row8\" >8</th>\n",
              "      <td id=\"T_0d151_row8_col0\" class=\"data row8 col0\" >FC_03.weight</td>\n",
              "      <td id=\"T_0d151_row8_col1\" class=\"data row8 col1\" >640</td>\n",
              "    </tr>\n",
              "    <tr>\n",
              "      <th id=\"T_0d151_level0_row9\" class=\"row_heading level0 row9\" >9</th>\n",
              "      <td id=\"T_0d151_row9_col0\" class=\"data row9 col0\" >FC_03.bias</td>\n",
              "      <td id=\"T_0d151_row9_col1\" class=\"data row9 col1\" >10</td>\n",
              "    </tr>\n",
              "  </tbody>\n",
              "</table>\n"
            ]
          },
          "metadata": {},
          "execution_count": 43
        }
      ]
    },
    {
      "cell_type": "code",
      "source": [
        "criterion = nn.CrossEntropyLoss()\n",
        "optimizer = Adam(model.parameters(), lr=config.learning_rate)"
      ],
      "metadata": {
        "id": "8p4aEH2VYedW"
      },
      "execution_count": 44,
      "outputs": []
    },
    {
      "cell_type": "code",
      "source": [
        "for epoch in range(config.epochs):\n",
        "  with tqdm(train_data_loader, unit=\"batch\") as tqdm_epoch:\n",
        "    for images, labels in tqdm_epoch:\n",
        "      tqdm_epoch.set_description(f\"Epoch {epoch}\")\n",
        "      images = images.to(config.DEVICE)\n",
        "      labels = labels.to(config.DEVICE)\n",
        "\n",
        "      output = model(images)\n",
        "      loss = criterion(output, labels)\n",
        "\n",
        "      optimizer.zero_grad()\n",
        "      loss.backward()\n",
        "      optimizer.step()\n",
        "\n",
        "      tqdm_epoch.set_postfix(loss=loss.item())\n",
        "#"
      ],
      "metadata": {
        "colab": {
          "base_uri": "https://localhost:8080/"
        },
        "id": "U7CSNiR_ZMys",
        "outputId": "34f5fad1-0031-49e5-b455-a35246047bea"
      },
      "execution_count": 45,
      "outputs": [
        {
          "output_type": "stream",
          "name": "stderr",
          "text": [
            "Epoch 0: 100%|██████████| 1875/1875 [00:46<00:00, 40.35batch/s, loss=0.522]\n",
            "Epoch 1: 100%|██████████| 1875/1875 [00:47<00:00, 39.39batch/s, loss=0.38]\n",
            "Epoch 2: 100%|██████████| 1875/1875 [00:46<00:00, 39.96batch/s, loss=0.327]\n",
            "Epoch 3: 100%|██████████| 1875/1875 [00:46<00:00, 40.20batch/s, loss=0.429]\n",
            "Epoch 4: 100%|██████████| 1875/1875 [00:48<00:00, 38.98batch/s, loss=0.291]\n",
            "Epoch 5: 100%|██████████| 1875/1875 [00:46<00:00, 40.17batch/s, loss=0.565]\n",
            "Epoch 6: 100%|██████████| 1875/1875 [00:46<00:00, 40.15batch/s, loss=0.339]\n",
            "Epoch 7: 100%|██████████| 1875/1875 [00:47<00:00, 39.49batch/s, loss=0.288]\n",
            "Epoch 8: 100%|██████████| 1875/1875 [00:47<00:00, 39.69batch/s, loss=0.239]\n",
            "Epoch 9: 100%|██████████| 1875/1875 [00:51<00:00, 36.58batch/s, loss=0.4]\n"
          ]
        }
      ]
    },
    {
      "cell_type": "markdown",
      "source": [],
      "metadata": {
        "id": "4uouFaF1Z7Uy"
      }
    },
    {
      "cell_type": "code",
      "source": [
        "\n",
        "os.makedirs(\"model_dir\",exist_ok=True)\n",
        "model_file_path= os.path.join(\"model_dir\",\"CNN_model.pth\")\n",
        "torch.save(model,model_file_path)\n",
        "\n"
      ],
      "metadata": {
        "id": "dCcGWHFgkVNF"
      },
      "execution_count": 46,
      "outputs": []
    },
    {
      "cell_type": "code",
      "source": [
        "\n",
        "loaded_model=torch.load(model_file_path)"
      ],
      "metadata": {
        "id": "j03YjDvTkfDR"
      },
      "execution_count": 47,
      "outputs": []
    },
    {
      "cell_type": "code",
      "source": [
        "\n",
        "# Evaluate the model\n",
        "model.eval()\n",
        "correct = 0\n",
        "total = 0\n",
        "with torch.no_grad():\n",
        "    for images, labels in test_data_loader:\n",
        "        images = images.to(config.DEVICE)\n",
        "        labels = labels.to(config.DEVICE)\n",
        "        outputs = model(images)\n",
        "        _, predicted = torch.max(outputs.data, 1)\n",
        "        total += labels.size(0)\n",
        "        correct += (predicted == labels).sum().item()\n",
        "\n",
        "print(f\"Accuracy: {100 * correct / total}%\")\n",
        ""
      ],
      "metadata": {
        "colab": {
          "base_uri": "https://localhost:8080/"
        },
        "id": "hLNAp2m0kkys",
        "outputId": "98719bcc-17c8-4dc5-ed25-73726e4a5249"
      },
      "execution_count": 50,
      "outputs": [
        {
          "output_type": "stream",
          "name": "stdout",
          "text": [
            "Accuracy: 84.37%\n"
          ]
        }
      ]
    },
    {
      "cell_type": "code",
      "source": [
        "\n",
        "def predict(data,model,label_map,device,idx=0):\n",
        "  images,labels=data\n",
        "  img=images[idx]\n",
        "  labels=labels[idx]\n",
        "\n",
        "  plt.imshow(img.squeeze(),cmap='gray')\n",
        "  logit=model(img.unsqueeze(dim=1).to(config.DEVICE))\n",
        "  pred_prob=F.softmax(logit,dim=1)\n",
        "  argmax=(torch.argmax(pred_prob)).item()\n",
        "  predicted_label=label_map[argmax]\n",
        "  actual_label =label_map[label.item()]\n",
        "\n",
        "  plt.title(f\"actual: {actual_label}| predicted : {predicted_label}\")\n",
        "  plt.axis(\"off\")\n",
        "  return predicted_label, actual_label"
      ],
      "metadata": {
        "id": "hAb0AR1GlgZw"
      },
      "execution_count": 52,
      "outputs": []
    },
    {
      "cell_type": "code",
      "source": [
        "# Load a batch of test data\n",
        "test_loader = DataLoader(test_data, batch_size=1, shuffle=True)\n",
        "data = next(iter(test_loader))\n",
        "\n",
        "# Predict and plot\n",
        "predicted_label, actual_label = predict(data, model, label_map, config.DEVICE, idx=0)"
      ],
      "metadata": {
        "colab": {
          "base_uri": "https://localhost:8080/",
          "height": 710
        },
        "id": "uG5sGQAPkwcN",
        "outputId": "3579a657-90bf-41d1-cd95-6ad65db6ab37"
      },
      "execution_count": 53,
      "outputs": [
        {
          "output_type": "error",
          "ename": "NameError",
          "evalue": "name 'label' is not defined",
          "traceback": [
            "\u001b[0;31m---------------------------------------------------------------------------\u001b[0m",
            "\u001b[0;31mNameError\u001b[0m                                 Traceback (most recent call last)",
            "\u001b[0;32m<ipython-input-53-96cfd9c050ab>\u001b[0m in \u001b[0;36m<cell line: 6>\u001b[0;34m()\u001b[0m\n\u001b[1;32m      4\u001b[0m \u001b[0;34m\u001b[0m\u001b[0m\n\u001b[1;32m      5\u001b[0m \u001b[0;31m# Predict and plot\u001b[0m\u001b[0;34m\u001b[0m\u001b[0;34m\u001b[0m\u001b[0m\n\u001b[0;32m----> 6\u001b[0;31m \u001b[0mpredicted_label\u001b[0m\u001b[0;34m,\u001b[0m \u001b[0mactual_label\u001b[0m \u001b[0;34m=\u001b[0m \u001b[0mpredict\u001b[0m\u001b[0;34m(\u001b[0m\u001b[0mdata\u001b[0m\u001b[0;34m,\u001b[0m \u001b[0mmodel\u001b[0m\u001b[0;34m,\u001b[0m \u001b[0mlabel_map\u001b[0m\u001b[0;34m,\u001b[0m \u001b[0mconfig\u001b[0m\u001b[0;34m.\u001b[0m\u001b[0mDEVICE\u001b[0m\u001b[0;34m,\u001b[0m \u001b[0midx\u001b[0m\u001b[0;34m=\u001b[0m\u001b[0;36m0\u001b[0m\u001b[0;34m)\u001b[0m\u001b[0;34m\u001b[0m\u001b[0;34m\u001b[0m\u001b[0m\n\u001b[0m",
            "\u001b[0;32m<ipython-input-52-3612f1cedd3a>\u001b[0m in \u001b[0;36mpredict\u001b[0;34m(data, model, label_map, device, idx)\u001b[0m\n\u001b[1;32m      9\u001b[0m   \u001b[0margmax\u001b[0m\u001b[0;34m=\u001b[0m\u001b[0;34m(\u001b[0m\u001b[0mtorch\u001b[0m\u001b[0;34m.\u001b[0m\u001b[0margmax\u001b[0m\u001b[0;34m(\u001b[0m\u001b[0mpred_prob\u001b[0m\u001b[0;34m)\u001b[0m\u001b[0;34m)\u001b[0m\u001b[0;34m.\u001b[0m\u001b[0mitem\u001b[0m\u001b[0;34m(\u001b[0m\u001b[0;34m)\u001b[0m\u001b[0;34m\u001b[0m\u001b[0;34m\u001b[0m\u001b[0m\n\u001b[1;32m     10\u001b[0m   \u001b[0mpredicted_label\u001b[0m\u001b[0;34m=\u001b[0m\u001b[0mlabel_map\u001b[0m\u001b[0;34m[\u001b[0m\u001b[0margmax\u001b[0m\u001b[0;34m]\u001b[0m\u001b[0;34m\u001b[0m\u001b[0;34m\u001b[0m\u001b[0m\n\u001b[0;32m---> 11\u001b[0;31m   \u001b[0mactual_label\u001b[0m \u001b[0;34m=\u001b[0m\u001b[0mlabel_map\u001b[0m\u001b[0;34m[\u001b[0m\u001b[0mlabel\u001b[0m\u001b[0;34m.\u001b[0m\u001b[0mitem\u001b[0m\u001b[0;34m(\u001b[0m\u001b[0;34m)\u001b[0m\u001b[0;34m]\u001b[0m\u001b[0;34m\u001b[0m\u001b[0;34m\u001b[0m\u001b[0m\n\u001b[0m\u001b[1;32m     12\u001b[0m \u001b[0;34m\u001b[0m\u001b[0m\n\u001b[1;32m     13\u001b[0m   \u001b[0mplt\u001b[0m\u001b[0;34m.\u001b[0m\u001b[0mtitle\u001b[0m\u001b[0;34m(\u001b[0m\u001b[0;34mf\"actual: {actual_label}| predicted : {predicted_label}\"\u001b[0m\u001b[0;34m)\u001b[0m\u001b[0;34m\u001b[0m\u001b[0;34m\u001b[0m\u001b[0m\n",
            "\u001b[0;31mNameError\u001b[0m: name 'label' is not defined"
          ]
        },
        {
          "output_type": "display_data",
          "data": {
            "text/plain": [
              "<Figure size 640x480 with 1 Axes>"
            ],
            "image/png": "[encoded data removed]"
          },
          "metadata": {}
        }
      ]
    },
    {
      "cell_type": "code",
      "source": [
        "import matplotlib.pyplot as plt\n",
        "import torch.nn.functional as F\n",
        "\n",
        "def predict(data, model, label_map, device, idx=0):\n",
        "    images, labels = data\n",
        "    img = images[idx]\n",
        "    label = labels[idx]\n",
        "\n",
        "    plt.imshow(img.squeeze(), cmap='gray')\n",
        "    img = img.unsqueeze(0).to(device)  # Add batch dimension and move to device\n",
        "    model.eval()\n",
        "    with torch.no_grad():\n",
        "        logit = model(img)\n",
        "        pred_prob = F.softmax(logit, dim=1)\n",
        "        argmax = torch.argmax(pred_prob, dim=1).item()\n",
        "\n",
        "    predicted_label = label_map[argmax]\n",
        "    actual_label = label_map[label.item()]\n",
        "\n",
        "    plt.title(f\"Actual: {actual_label} | Predicted: {predicted_label}\")\n",
        "    plt.axis(\"off\")\n",
        "    plt.show()\n",
        "\n",
        "    return predicted_label, actual_label\n"
      ],
      "metadata": {
        "id": "V_crRilMlbxM"
      },
      "execution_count": 60,
      "outputs": []
    },
    {
      "cell_type": "code",
      "source": [
        "from torch.utils.data import DataLoader\n",
        "from torchvision import datasets, transforms\n",
        "\n",
        "# Assuming you have test_data and the model is already loaded and moved to device\n",
        "test_data = datasets.FashionMNIST(\n",
        "    root=config.ROOT_DATA_DIR,\n",
        "    train=False,\n",
        "    download=True,\n",
        "    transform=transforms.ToTensor()\n",
        ")\n",
        "\n",
        "test_loader = DataLoader(test_data, batch_size=1, shuffle=True)\n",
        "data = next(iter(test_loader))\n",
        "\n",
        "# Predict and plot\n",
        "predicted_label, actual_label = predict(data, model, label_map, config.DEVICE, idx=0)\n"
      ],
      "metadata": {
        "colab": {
          "base_uri": "https://localhost:8080/",
          "height": 428
        },
        "id": "GjvubL2kmG7I",
        "outputId": "cfc608f6-16d2-4f65-9161-b8207b686dbe"
      },
      "execution_count": 61,
      "outputs": [
        {
          "output_type": "display_data",
          "data": {
            "text/plain": [
              "<Figure size 640x480 with 1 Axes>"
            ],
            "image/png": "[encoded data removed]"
          },
          "metadata": {}
        }
      ]
    },
    {
      "cell_type": "code",
      "source": [],
      "metadata": {
        "id": "x_C0LV6Uyjmk"
      },
      "execution_count": null,
      "outputs": []
    }
  ]
}